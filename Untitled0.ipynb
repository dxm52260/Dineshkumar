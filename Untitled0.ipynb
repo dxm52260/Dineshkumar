{
  "nbformat": 4,
  "nbformat_minor": 0,
  "metadata": {
    "colab": {
      "provenance": [],
      "toc_visible": true
    },
    "kernelspec": {
      "name": "python3",
      "display_name": "Python 3"
    },
    "language_info": {
      "name": "python"
    }
  },
  "cells": [
    {
      "cell_type": "markdown",
      "source": [
        "– Input the string “Python” as a list of characters from console, delete at least 2 characters, reverse the resultant string and print it."
      ],
      "metadata": {
        "id": "fum8W0fQDzFJ"
      }
    },
    {
      "cell_type": "code",
      "source": [
        "\n",
        "\n",
        "x = list(\"Python\")\n",
        "del x[:2]\n",
        "x.reverse()\n",
        "reversed_string = ''.join(x)\n",
        "print(reversed_string)"
      ],
      "metadata": {
        "colab": {
          "base_uri": "https://localhost:8080/"
        },
        "id": "IibDXfzd0Snm",
        "outputId": "56670456-583c-4f54-b52c-d4cefc4b40f5"
      },
      "execution_count": 11,
      "outputs": [
        {
          "output_type": "stream",
          "name": "stdout",
          "text": [
            "noht\n"
          ]
        }
      ]
    },
    {
      "cell_type": "markdown",
      "source": [
        " Write a program that accepts a sentence and replace each occurrence of ‘python’ with ‘pythons’."
      ],
      "metadata": {
        "id": "yqiGGJAyD_93"
      }
    },
    {
      "cell_type": "code",
      "source": [
        "x=\"i love playing with python\"\n",
        "y=x.replace('python','pythons')\n",
        "print(y)"
      ],
      "metadata": {
        "colab": {
          "base_uri": "https://localhost:8080/"
        },
        "id": "i4V_35DjCk7r",
        "outputId": "fe24a6f8-c425-488c-fdf3-5693a756c8dd"
      },
      "execution_count": 12,
      "outputs": [
        {
          "output_type": "stream",
          "name": "stdout",
          "text": [
            "i love playing with pythons\n"
          ]
        }
      ]
    },
    {
      "cell_type": "markdown",
      "source": [
        "Use the if statement conditions to write a program to print the letter grade based on an input class score. Use the grading scheme we are using in this class."
      ],
      "metadata": {
        "id": "51S1piZ3DeAw"
      }
    },
    {
      "cell_type": "code",
      "source": [
        "def determine_grade():\n",
        "    score = float(input(\"Enter your class score\"))\n",
        "    if 90 <= score <= 100:\n",
        "        grade = 'A'\n",
        "    elif 80 <= score < 90:\n",
        "        grade = 'B'\n",
        "    elif 70 <= score < 80:\n",
        "        grade = 'C'\n",
        "    elif 60 <= score < 70:\n",
        "        grade = 'D'\n",
        "    elif 0 <= score < 60:\n",
        "        grade = 'F'\n",
        "    else:\n",
        "        grade = 'Invalid score'\n",
        "    print(\"Your grade is:\", grade)\n",
        "determine_grade()\n"
      ],
      "metadata": {
        "colab": {
          "base_uri": "https://localhost:8080/"
        },
        "id": "aiKkCVSlDsVU",
        "outputId": "368fc23c-1785-4df1-ac1f-c5089deba8d9"
      },
      "execution_count": 7,
      "outputs": [
        {
          "output_type": "stream",
          "name": "stdout",
          "text": [
            "Enter your class score75\n",
            "Your grade is: C\n"
          ]
        }
      ]
    }
  ]
}